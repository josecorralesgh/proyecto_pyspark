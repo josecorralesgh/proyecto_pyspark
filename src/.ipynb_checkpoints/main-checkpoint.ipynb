{
 "cells": [
  {
   "cell_type": "markdown",
   "id": "5fdefbec-71d1-4040-9bb2-3b7546491bfb",
   "metadata": {},
   "source": [
    "**Importar librerías**"
   ]
  },
  {
   "cell_type": "code",
   "execution_count": 14,
   "id": "ed49bccf-92d7-42df-ba4a-9ed7c719f327",
   "metadata": {},
   "outputs": [],
   "source": [
    "from pyspark.sql import SparkSession\n",
    "from pyspark.sql.functions import col, when, sum\n",
    "import pandas as pd\n",
    "from pyspark.sql import functions as F\n",
    "from pyspark.sql.window import Window\n",
    "from const import PATH_DATA_SOURCE, PATH_DATA_DEST\n",
    "from funciones import guardar_dataframe_csv,data_filled"
   ]
  },
  {
   "cell_type": "markdown",
   "id": "63df6f96-763a-4fbf-875e-07b1051afa62",
   "metadata": {},
   "source": [
    "**1. Configurar el entorno**"
   ]
  },
  {
   "cell_type": "code",
   "execution_count": 3,
   "id": "061cdd13-bd3a-414c-8479-f7e636cdf2a4",
   "metadata": {},
   "outputs": [
    {
     "name": "stderr",
     "output_type": "stream",
     "text": [
      "24/01/18 12:20:38 WARN Utils: Your hostname, PC01JOSEF resolves to a loopback address: 127.0.1.1; using 192.168.0.19 instead (on interface wlo1)\n",
      "24/01/18 12:20:38 WARN Utils: Set SPARK_LOCAL_IP if you need to bind to another address\n",
      "Setting default log level to \"WARN\".\n",
      "To adjust logging level use sc.setLogLevel(newLevel). For SparkR, use setLogLevel(newLevel).\n",
      "24/01/18 12:20:48 WARN NativeCodeLoader: Unable to load native-hadoop library for your platform... using builtin-java classes where applicable\n",
      "24/01/18 12:20:50 WARN Utils: Service 'SparkUI' could not bind on port 4040. Attempting port 4041.\n"
     ]
    }
   ],
   "source": [
    "# Crear una sesión de Spark\n",
    "spark = SparkSession.builder.appName(\"Proyectopyspark\").getOrCreate()"
   ]
  },
  {
   "cell_type": "markdown",
   "id": "e8f4ef59-3c79-4449-8227-4a449717d80d",
   "metadata": {},
   "source": [
    "**2. Cargar datos**"
   ]
  },
  {
   "cell_type": "code",
   "execution_count": 4,
   "id": "f4ed8ba7-0764-4358-81ff-9108692c5b21",
   "metadata": {},
   "outputs": [
    {
     "name": "stderr",
     "output_type": "stream",
     "text": [
      "                                                                                \r"
     ]
    }
   ],
   "source": [
    "# Reemplaza 'ruta/del/archivo' con la ruta de tu archivo de datos\n",
    "#data = spark.read.csv('../data/srd/hotel_bookings.csv', header=True, inferSchema=True)\n",
    "data = spark.read.csv(PATH_DATA_SOURCE, header=True, inferSchema=True)"
   ]
  },
  {
   "cell_type": "markdown",
   "id": "53149b6d-6563-4d5b-b0d7-c3779f41b6e4",
   "metadata": {},
   "source": [
    "**3. Primera exploración en los datos**"
   ]
  },
  {
   "cell_type": "code",
   "execution_count": 31,
   "id": "4cd18947-5af1-4e35-abf0-cd4c246a6495",
   "metadata": {},
   "outputs": [
    {
     "name": "stdout",
     "output_type": "stream",
     "text": [
      "+-----+------------+-----------+---------+-----------------+------------------+------------------------+-------------------------+-----------------------+--------------------+------+--------+------+----+-------+--------------+--------------------+-----------------+----------------------+------------------------------+------------------+------------------+---------------+------------+--------+----------+--------------------+-------------+----+---------------------------+-------------------------+------------------+-----------------------+\n",
      "|index|hotel       |is_canceled|lead_time|arrival_date_year|arrival_date_month|arrival_date_week_number|arrival_date_day_of_month|stays_in_weekend_nights|stays_in_week_nights|adults|children|babies|meal|country|market_segment|distribution_channel|is_repeated_guest|previous_cancellations|previous_bookings_not_canceled|reserved_room_type|assigned_room_type|booking_changes|deposit_type|agent   |company   |days_in_waiting_list|customer_type|adr |required_car_parking_spaces|total_of_special_requests|reservation_status|reservation_status_date|\n",
      "+-----+------------+-----------+---------+-----------------+------------------+------------------------+-------------------------+-----------------------+--------------------+------+--------+------+----+-------+--------------+--------------------+-----------------+----------------------+------------------------------+------------------+------------------+---------------+------------+--------+----------+--------------------+-------------+----+---------------------------+-------------------------+------------------+-----------------------+\n",
      "|0    |Resort Hotel|0          |342      |2015             |July              |27                      |1                        |0                      |0                   |2     |0.0     |0     |BB  |PRT    |Direct        |Direct              |0                |0                     |0                             |C                 |C                 |3              |No Deposit  |No agent|No company|0                   |Transient    |0.0 |0                          |0                        |Check-Out         |01-07-15               |\n",
      "|1    |Resort Hotel|0          |737      |2015             |July              |27                      |1                        |0                      |0                   |2     |0.0     |0     |BB  |PRT    |Direct        |Direct              |0                |0                     |0                             |C                 |C                 |4              |No Deposit  |No agent|No company|0                   |Transient    |0.0 |0                          |0                        |Check-Out         |01-07-15               |\n",
      "|2    |Resort Hotel|0          |7        |2015             |July              |27                      |1                        |0                      |1                   |1     |0.0     |0     |BB  |GBR    |Direct        |Direct              |0                |0                     |0                             |A                 |C                 |0              |No Deposit  |No agent|No company|0                   |Transient    |75.0|0                          |0                        |Check-Out         |02-07-15               |\n",
      "|3    |Resort Hotel|0          |13       |2015             |July              |27                      |1                        |0                      |1                   |1     |0.0     |0     |BB  |GBR    |Corporate     |Corporate           |0                |0                     |0                             |A                 |A                 |0              |No Deposit  |304.0   |No company|0                   |Transient    |75.0|0                          |0                        |Check-Out         |02-07-15               |\n",
      "|4    |Resort Hotel|0          |14       |2015             |July              |27                      |1                        |0                      |2                   |2     |0.0     |0     |BB  |GBR    |Online TA     |TA/TO               |0                |0                     |0                             |A                 |A                 |0              |No Deposit  |240.0   |No company|0                   |Transient    |98.0|0                          |1                        |Check-Out         |03-07-15               |\n",
      "+-----+------------+-----------+---------+-----------------+------------------+------------------------+-------------------------+-----------------------+--------------------+------+--------+------+----+-------+--------------+--------------------+-----------------+----------------------+------------------------------+------------------+------------------+---------------+------------+--------+----------+--------------------+-------------+----+---------------------------+-------------------------+------------------+-----------------------+\n",
      "only showing top 5 rows\n",
      "\n"
     ]
    }
   ],
   "source": [
    "#data.show()\n",
    "data.show(5, truncate=False)\n",
    "#print(data.head(5))\n",
    "#print(data.collect())"
   ]
  },
  {
   "cell_type": "code",
   "execution_count": 6,
   "id": "d8553b80-4c21-40df-9fef-b5b26fa167c1",
   "metadata": {},
   "outputs": [
    {
     "name": "stdout",
     "output_type": "stream",
     "text": [
      "root\n",
      " |-- index: integer (nullable = true)\n",
      " |-- hotel: string (nullable = true)\n",
      " |-- is_canceled: integer (nullable = true)\n",
      " |-- lead_time: integer (nullable = true)\n",
      " |-- arrival_date_year: integer (nullable = true)\n",
      " |-- arrival_date_month: string (nullable = true)\n",
      " |-- arrival_date_week_number: integer (nullable = true)\n",
      " |-- arrival_date_day_of_month: integer (nullable = true)\n",
      " |-- stays_in_weekend_nights: integer (nullable = true)\n",
      " |-- stays_in_week_nights: integer (nullable = true)\n",
      " |-- adults: integer (nullable = true)\n",
      " |-- children: double (nullable = true)\n",
      " |-- babies: integer (nullable = true)\n",
      " |-- meal: string (nullable = true)\n",
      " |-- country: string (nullable = true)\n",
      " |-- market_segment: string (nullable = true)\n",
      " |-- distribution_channel: string (nullable = true)\n",
      " |-- is_repeated_guest: integer (nullable = true)\n",
      " |-- previous_cancellations: integer (nullable = true)\n",
      " |-- previous_bookings_not_canceled: integer (nullable = true)\n",
      " |-- reserved_room_type: string (nullable = true)\n",
      " |-- assigned_room_type: string (nullable = true)\n",
      " |-- booking_changes: integer (nullable = true)\n",
      " |-- deposit_type: string (nullable = true)\n",
      " |-- agent: double (nullable = true)\n",
      " |-- company: double (nullable = true)\n",
      " |-- days_in_waiting_list: integer (nullable = true)\n",
      " |-- customer_type: string (nullable = true)\n",
      " |-- adr: double (nullable = true)\n",
      " |-- required_car_parking_spaces: integer (nullable = true)\n",
      " |-- total_of_special_requests: integer (nullable = true)\n",
      " |-- reservation_status: string (nullable = true)\n",
      " |-- reservation_status_date: string (nullable = true)\n",
      "\n"
     ]
    }
   ],
   "source": [
    "data.printSchema()"
   ]
  },
  {
   "cell_type": "code",
   "execution_count": 7,
   "id": "abdede08-811f-4868-8bf8-b6921ffec34a",
   "metadata": {},
   "outputs": [
    {
     "name": "stderr",
     "output_type": "stream",
     "text": [
      "                                                                                \r"
     ]
    },
    {
     "name": "stdout",
     "output_type": "stream",
     "text": [
      "         index         hotel  is_canceled  lead_time  arrival_date_year  \\\n",
      "0            0  Resort Hotel            0        342               2015   \n",
      "1            1  Resort Hotel            0        737               2015   \n",
      "2            2  Resort Hotel            0          7               2015   \n",
      "3            3  Resort Hotel            0         13               2015   \n",
      "4            4  Resort Hotel            0         14               2015   \n",
      "...        ...           ...          ...        ...                ...   \n",
      "119385  119385    City Hotel            0         23               2017   \n",
      "119386  119386    City Hotel            0        102               2017   \n",
      "119387  119387    City Hotel            0         34               2017   \n",
      "119388  119388    City Hotel            0        109               2017   \n",
      "119389  119389    City Hotel            0        205               2017   \n",
      "\n",
      "       arrival_date_month  arrival_date_week_number  \\\n",
      "0                    July                        27   \n",
      "1                    July                        27   \n",
      "2                    July                        27   \n",
      "3                    July                        27   \n",
      "4                    July                        27   \n",
      "...                   ...                       ...   \n",
      "119385             August                        35   \n",
      "119386             August                        35   \n",
      "119387             August                        35   \n",
      "119388             August                        35   \n",
      "119389             August                        35   \n",
      "\n",
      "        arrival_date_day_of_month  stays_in_weekend_nights  \\\n",
      "0                               1                        0   \n",
      "1                               1                        0   \n",
      "2                               1                        0   \n",
      "3                               1                        0   \n",
      "4                               1                        0   \n",
      "...                           ...                      ...   \n",
      "119385                         30                        2   \n",
      "119386                         31                        2   \n",
      "119387                         31                        2   \n",
      "119388                         31                        2   \n",
      "119389                         29                        2   \n",
      "\n",
      "        stays_in_week_nights  ...  deposit_type  agent  company  \\\n",
      "0                          0  ...    No Deposit    NaN      NaN   \n",
      "1                          0  ...    No Deposit    NaN      NaN   \n",
      "2                          1  ...    No Deposit    NaN      NaN   \n",
      "3                          1  ...    No Deposit  304.0      NaN   \n",
      "4                          2  ...    No Deposit  240.0      NaN   \n",
      "...                      ...  ...           ...    ...      ...   \n",
      "119385                     5  ...    No Deposit  394.0      NaN   \n",
      "119386                     5  ...    No Deposit    9.0      NaN   \n",
      "119387                     5  ...    No Deposit    9.0      NaN   \n",
      "119388                     5  ...    No Deposit   89.0      NaN   \n",
      "119389                     7  ...    No Deposit    9.0      NaN   \n",
      "\n",
      "       days_in_waiting_list customer_type     adr required_car_parking_spaces  \\\n",
      "0                         0     Transient    0.00                           0   \n",
      "1                         0     Transient    0.00                           0   \n",
      "2                         0     Transient   75.00                           0   \n",
      "3                         0     Transient   75.00                           0   \n",
      "4                         0     Transient   98.00                           0   \n",
      "...                     ...           ...     ...                         ...   \n",
      "119385                    0     Transient   96.14                           0   \n",
      "119386                    0     Transient  225.43                           0   \n",
      "119387                    0     Transient  157.71                           0   \n",
      "119388                    0     Transient  104.40                           0   \n",
      "119389                    0     Transient  151.20                           0   \n",
      "\n",
      "        total_of_special_requests  reservation_status  reservation_status_date  \n",
      "0                               0           Check-Out                 01-07-15  \n",
      "1                               0           Check-Out                 01-07-15  \n",
      "2                               0           Check-Out                 02-07-15  \n",
      "3                               0           Check-Out                 02-07-15  \n",
      "4                               1           Check-Out                 03-07-15  \n",
      "...                           ...                 ...                      ...  \n",
      "119385                          0           Check-Out                 06-09-17  \n",
      "119386                          2           Check-Out                 07-09-17  \n",
      "119387                          4           Check-Out                 07-09-17  \n",
      "119388                          0           Check-Out                 07-09-17  \n",
      "119389                          2           Check-Out                 07-09-17  \n",
      "\n",
      "[119390 rows x 33 columns]\n"
     ]
    }
   ],
   "source": [
    "##usamos pandas para ver el formato tabla\n",
    "pandas_df = data.toPandas()\n",
    "print(pandas_df)"
   ]
  },
  {
   "cell_type": "markdown",
   "id": "7049d6ec-b3f7-4ffb-9be8-6fe83aecfc04",
   "metadata": {},
   "source": [
    "**3.1. Contamos los nulos por columna**"
   ]
  },
  {
   "cell_type": "code",
   "execution_count": 8,
   "id": "5c93db10-cb1c-42fc-89d3-a87bcf838dd2",
   "metadata": {},
   "outputs": [
    {
     "name": "stderr",
     "output_type": "stream",
     "text": [
      "[Stage 4:=============================>                             (2 + 2) / 4]\r"
     ]
    },
    {
     "name": "stdout",
     "output_type": "stream",
     "text": [
      "index: 0\n",
      "hotel: 0\n",
      "is_canceled: 0\n",
      "lead_time: 0\n",
      "arrival_date_year: 0\n",
      "arrival_date_month: 0\n",
      "arrival_date_week_number: 0\n",
      "arrival_date_day_of_month: 0\n",
      "stays_in_weekend_nights: 0\n",
      "stays_in_week_nights: 0\n",
      "adults: 0\n",
      "children: 4\n",
      "babies: 0\n",
      "meal: 0\n",
      "country: 488\n",
      "market_segment: 0\n",
      "distribution_channel: 0\n",
      "is_repeated_guest: 0\n",
      "previous_cancellations: 0\n",
      "previous_bookings_not_canceled: 0\n",
      "reserved_room_type: 0\n",
      "assigned_room_type: 0\n",
      "booking_changes: 0\n",
      "deposit_type: 0\n",
      "agent: 16340\n",
      "company: 112593\n",
      "days_in_waiting_list: 0\n",
      "customer_type: 0\n",
      "adr: 0\n",
      "required_car_parking_spaces: 0\n",
      "total_of_special_requests: 0\n",
      "reservation_status: 0\n",
      "reservation_status_date: 0\n"
     ]
    },
    {
     "name": "stderr",
     "output_type": "stream",
     "text": [
      "                                                                                \r"
     ]
    }
   ],
   "source": [
    "# Contar los valores nulos en cada columna\n",
    "null_counts = data.agg(*[sum(col(c).isNull().cast(\"int\")).alias(c) for c in data.columns])\n",
    "\n",
    "# Obtener los resultados como un diccionario\n",
    "null_counts_dict = null_counts.first().asDict()\n",
    "\n",
    "# Mostrar los columna: valor núlos\n",
    "for colname, count in null_counts_dict.items():\n",
    "    print(f\"{colname}: {count}\")"
   ]
  },
  {
   "cell_type": "markdown",
   "id": "c7334843-800f-4194-a0e9-7077bc4e7650",
   "metadata": {},
   "source": [
    "**3.2. Completamos Nan/nulos**"
   ]
  },
  {
   "cell_type": "code",
   "execution_count": 18,
   "id": "48470ab0-194d-494b-b6af-3dc20faab235",
   "metadata": {},
   "outputs": [],
   "source": [
    "## columna [Children], tiene 4 nulos completamos con ceros\n",
    "## columna [country], tiene 488 nulos completamos con \"Otros\"\n",
    "## columna [agent], tiene 16340 nulos completamos con \"No Agent\"\n",
    "## columna [company], tiene 112593 nulos completamos con \"No company\"\n",
    "\n",
    "# Llamar a la función para completar columnas\n",
    "# Lista de columnas y valores a llenar\n",
    "columns_to_fill = ['children', 'country', 'agent', 'company']\n",
    "fill_values = {'children': 0, 'country': 'Otros', 'agent': 'No agent', 'company': 'No company'}\n",
    "\n",
    "# Aplicar la función data_filled en un bucle\n",
    "for columna, valor in fill_values.items():\n",
    "    data = data_filled(data, columna, valor)\n"
   ]
  },
  {
   "cell_type": "code",
   "execution_count": 19,
   "id": "57749a5d-ceb8-46a2-99dc-ecaebd751915",
   "metadata": {},
   "outputs": [
    {
     "name": "stdout",
     "output_type": "stream",
     "text": [
      "index: 0\n",
      "hotel: 0\n",
      "is_canceled: 0\n",
      "lead_time: 0\n",
      "arrival_date_year: 0\n",
      "arrival_date_month: 0\n",
      "arrival_date_week_number: 0\n",
      "arrival_date_day_of_month: 0\n",
      "stays_in_weekend_nights: 0\n",
      "stays_in_week_nights: 0\n",
      "adults: 0\n",
      "children: 0\n",
      "babies: 0\n",
      "meal: 0\n",
      "country: 0\n",
      "market_segment: 0\n",
      "distribution_channel: 0\n",
      "is_repeated_guest: 0\n",
      "previous_cancellations: 0\n",
      "previous_bookings_not_canceled: 0\n",
      "reserved_room_type: 0\n",
      "assigned_room_type: 0\n",
      "booking_changes: 0\n",
      "deposit_type: 0\n",
      "agent: 0\n",
      "company: 0\n",
      "days_in_waiting_list: 0\n",
      "customer_type: 0\n",
      "adr: 0\n",
      "required_car_parking_spaces: 0\n",
      "total_of_special_requests: 0\n",
      "reservation_status: 0\n",
      "reservation_status_date: 0\n"
     ]
    },
    {
     "name": "stderr",
     "output_type": "stream",
     "text": [
      "                                                                                \r"
     ]
    }
   ],
   "source": [
    "# Contar los valores nulos en cada columna\n",
    "null_counts = data.agg(*[sum(col(c).isNull().cast(\"int\")).alias(c) for c in data.columns])\n",
    "\n",
    "# Obtener los resultados como un diccionario\n",
    "null_counts_dict = null_counts.first().asDict()\n",
    "\n",
    "# Mostrar los columna: valor núlos\n",
    "for colname, count in null_counts_dict.items():\n",
    "    print(f\"{colname}: {count}\")"
   ]
  },
  {
   "cell_type": "markdown",
   "id": "0592782b-220c-4ec7-aa41-fe186d442b61",
   "metadata": {},
   "source": [
    "**Tablas de salida:**"
   ]
  },
  {
   "attachments": {},
   "cell_type": "markdown",
   "id": "335048ec-c140-44f4-b398-00b12b5060c1",
   "metadata": {},
   "source": [
    "Tabla de Salida 1: Número de cambios de reserva acumulados por mes\n",
    "\n",
    "arrival_date_month\n",
    "\n",
    "booking_changes\n",
    "\n",
    "cumulative_changes"
   ]
  },
  {
   "cell_type": "code",
   "execution_count": 20,
   "id": "24325cf9-9709-43c1-a964-b007b4ed2eca",
   "metadata": {},
   "outputs": [
    {
     "name": "stderr",
     "output_type": "stream",
     "text": [
      "                                                                                \r"
     ]
    },
    {
     "name": "stdout",
     "output_type": "stream",
     "text": [
      "+-----------------+------------------+---------------+------------------+\n",
      "|arrival_date_year|arrival_date_month|booking_changes|cumulative_changes|\n",
      "+-----------------+------------------+---------------+------------------+\n",
      "|             2015|            August|              4|                16|\n",
      "|             2015|            August|              1|               438|\n",
      "|             2015|            August|              2|               166|\n",
      "|             2015|            August|              0|                 0|\n",
      "|             2015|            August|              5|                20|\n",
      "|             2015|            August|              3|                45|\n",
      "|             2015|            August|             20|                20|\n",
      "|             2015|            August|             11|                11|\n",
      "|             2015|          December|              0|                 0|\n",
      "|             2015|          December|              2|               122|\n",
      "|             2015|          December|              5|                10|\n",
      "|             2015|          December|              3|                42|\n",
      "|             2015|          December|              4|                16|\n",
      "|             2015|          December|              1|               308|\n",
      "|             2015|          December|              8|                 8|\n",
      "|             2015|              July|              1|               258|\n",
      "|             2015|              July|              5|                15|\n",
      "|             2015|              July|              3|                30|\n",
      "|             2015|              July|              2|                72|\n",
      "|             2015|              July|              0|                 0|\n",
      "+-----------------+------------------+---------------+------------------+\n",
      "only showing top 20 rows\n",
      "\n",
      "cantidad de fila: 230\n"
     ]
    }
   ],
   "source": [
    "# Calcular la cantidad acumulada de cambios por mes\n",
    "#agrupamos por año y meses\n",
    "data_with_accumulated_changes = data.groupBy(\"arrival_date_year\",\"arrival_date_month\",\"booking_changes\") \\\n",
    "                                    .agg(F.sum(\"booking_changes\").alias(\"cumulative_changes\")) \\\n",
    "                                    .orderBy(\"arrival_date_year\",\"arrival_date_month\")\n",
    "\n",
    "\n",
    "# Mostrar el nuevo DataFrame\n",
    "data_with_accumulated_changes.show()\n",
    "num_rows = data_with_accumulated_changes.count()\n",
    "print(f\"cantidad de fila: {num_rows}\")"
   ]
  },
  {
   "cell_type": "code",
   "execution_count": 21,
   "id": "41fbb68b-134c-4169-b82a-3c5226637a61",
   "metadata": {},
   "outputs": [],
   "source": [
    "# Llamar a la función para guardar el DataFrame en un archivo CSV\n",
    "guardar_dataframe_csv(data_with_accumulated_changes, PATH_DATA_DEST, 'Tabla1', modo='overwrite')"
   ]
  },
  {
   "cell_type": "code",
   "execution_count": null,
   "id": "1011f1a1-e673-47dc-8c1a-472a4b0b4b02",
   "metadata": {},
   "outputs": [],
   "source": []
  },
  {
   "cell_type": "code",
   "execution_count": null,
   "id": "a6b0cfc8-55c0-4ebf-a69c-38e4cf387d09",
   "metadata": {},
   "outputs": [],
   "source": []
  },
  {
   "cell_type": "markdown",
   "id": "a29a1f29-f0a7-4f7a-a29f-68ffbb599157",
   "metadata": {},
   "source": [
    "Tabla de Salida 2: Promedio diario de tarifas por tipo de comida y año\n",
    "arrival_date_year\n",
    "\n",
    "meal\n",
    "\n",
    "avg_daily_rate"
   ]
  },
  {
   "cell_type": "code",
   "execution_count": 22,
   "id": "6f866792-1b64-4f7d-8eb3-2202cd7ace5c",
   "metadata": {},
   "outputs": [
    {
     "name": "stdout",
     "output_type": "stream",
     "text": [
      "+----+-----------------+------------------+-------------------------+------------------+\n",
      "|meal|arrival_date_year|arrival_date_month|arrival_date_day_of_month|    avg_daily_rate|\n",
      "+----+-----------------+------------------+-------------------------+------------------+\n",
      "|  HB|             2015|            August|                        1|130.09301886792454|\n",
      "|  BB|             2015|            August|                        1|151.45228070175438|\n",
      "|  FB|             2015|            August|                        2|             159.0|\n",
      "|  HB|             2015|            August|                        2|        162.465625|\n",
      "|  BB|             2015|            August|                        2|125.63727272727274|\n",
      "|  FB|             2015|            August|                        3|             142.3|\n",
      "|  BB|             2015|            August|                        3| 78.82664596273294|\n",
      "|  HB|             2015|            August|                        3| 168.9185714285714|\n",
      "|  HB|             2015|            August|                        4|188.01363636363638|\n",
      "|  BB|             2015|            August|                        4|115.29499999999997|\n",
      "|  SC|             2015|            August|                        4|              80.0|\n",
      "|  BB|             2015|            August|                        5| 73.11684931506849|\n",
      "|  HB|             2015|            August|                        5|156.38714285714286|\n",
      "|  SC|             2015|            August|                        5|              80.0|\n",
      "|  BB|             2015|            August|                        6| 92.82557377049181|\n",
      "|  HB|             2015|            August|                        6|           203.246|\n",
      "|  SC|             2015|            August|                        6|              73.0|\n",
      "|  BB|             2015|            August|                        7|            90.116|\n",
      "|  HB|             2015|            August|                        7| 152.7841666666667|\n",
      "|  SC|             2015|            August|                        7|             106.5|\n",
      "+----+-----------------+------------------+-------------------------+------------------+\n",
      "only showing top 20 rows\n",
      "\n",
      "cantidad de fila: 2645\n"
     ]
    }
   ],
   "source": [
    "# Calcular el promedio diario de tarifas por tipo de comida y año\n",
    "avg_daily_rates = data.groupBy(\"meal\", \"arrival_date_year\", \"arrival_date_month\", \"arrival_date_day_of_month\") \\\n",
    "                      .agg(F.mean(\"adr\").alias(\"avg_daily_rate\")) \\\n",
    "                      .orderBy(\"arrival_date_year\",\"arrival_date_month\", \"arrival_date_day_of_month\")\n",
    "\n",
    "# Mostrar el resultado\n",
    "avg_daily_rates.show()\n",
    "num_rows = avg_daily_rates.count()\n",
    "print(f\"cantidad de fila: {num_rows}\")"
   ]
  },
  {
   "cell_type": "code",
   "execution_count": 23,
   "id": "8c563875-6464-4fe9-bccd-135118a225f9",
   "metadata": {},
   "outputs": [],
   "source": [
    "# Llamar a la función para guardar el DataFrame en un archivo CSV\n",
    "guardar_dataframe_csv(avg_daily_rates, PATH_DATA_DEST, 'Tabla2', modo='overwrite')"
   ]
  },
  {
   "cell_type": "code",
   "execution_count": null,
   "id": "67b29c5a-ab7b-46a8-a243-cdc3cff16a6d",
   "metadata": {},
   "outputs": [],
   "source": []
  },
  {
   "cell_type": "code",
   "execution_count": null,
   "id": "fbf29745-b79a-4113-a7a0-e104de51ad63",
   "metadata": {},
   "outputs": [],
   "source": []
  },
  {
   "cell_type": "markdown",
   "id": "7553f775-2c6a-4b08-865a-c3a259ef8c05",
   "metadata": {},
   "source": [
    "Tabla de Salida 3: Número total de huéspedes por país y tipo de cliente\n",
    "\n",
    "country\n",
    "\n",
    "customer_type\n",
    "\n",
    "total_guests"
   ]
  },
  {
   "cell_type": "code",
   "execution_count": 24,
   "id": "e1df4fef-4c18-481b-bb0c-4f75a94bba98",
   "metadata": {},
   "outputs": [
    {
     "name": "stdout",
     "output_type": "stream",
     "text": [
      "+-------+---------------+------------+--------------+------------+------------+\n",
      "|country|  customer_type|total_adults|total_children|total_babies|total_guests|\n",
      "+-------+---------------+------------+--------------+------------+------------+\n",
      "|    ABW|      Transient|           5|           0.0|           0|         5.0|\n",
      "|    AGO|       Contract|          13|           2.0|           0|        15.0|\n",
      "|    AGO|          Group|           4|           0.0|           0|         4.0|\n",
      "|    AGO|      Transient|         532|          75.0|           5|       612.0|\n",
      "|    AGO|Transient-Party|          21|           0.0|           0|        21.0|\n",
      "|    AIA|      Transient|           2|           2.0|           0|         4.0|\n",
      "|    ALB|      Transient|          16|           0.0|           1|        17.0|\n",
      "|    ALB|Transient-Party|           5|           0.0|           0|         5.0|\n",
      "|    AND|      Transient|          15|           4.0|           0|        19.0|\n",
      "|    ARE|      Transient|          91|          20.0|           0|       111.0|\n",
      "|    ARE|Transient-Party|           2|           0.0|           0|         2.0|\n",
      "|    ARG|       Contract|           3|           0.0|           0|         3.0|\n",
      "|    ARG|          Group|           3|           0.0|           0|         3.0|\n",
      "|    ARG|      Transient|         345|          24.0|           1|       370.0|\n",
      "|    ARG|Transient-Party|          79|           6.0|           0|        85.0|\n",
      "|    ARM|      Transient|          13|           3.0|           0|        16.0|\n",
      "|    ARM|Transient-Party|           2|           0.0|           0|         2.0|\n",
      "|    ASM|      Transient|           2|           0.0|           0|         2.0|\n",
      "|    ATA|      Transient|           2|           0.0|           0|         2.0|\n",
      "|    ATF|      Transient|           2|           0.0|           0|         2.0|\n",
      "+-------+---------------+------------+--------------+------------+------------+\n",
      "only showing top 20 rows\n",
      "\n",
      "cantidad de fila: 378\n"
     ]
    }
   ],
   "source": [
    "# Calcular el número total de huéspedes por país y tipo de cliente\n",
    "total_guests_by_country_type = data.groupBy(\"country\", \"customer_type\") \\\n",
    "                                    .agg(F.sum(\"adults\").alias(\"total_adults\"),\n",
    "                                         F.sum(\"children\").alias(\"total_children\"),\n",
    "                                         F.sum(\"babies\").alias(\"total_babies\"),\n",
    "                                         F.sum(F.col(\"adults\") + F.col(\"children\") + F.col(\"babies\")).alias(\"total_guests\")) \\\n",
    "                                    .orderBy(\"country\",\"customer_type\")\n",
    "\n",
    "# Mostrar el resultado\n",
    "total_guests_by_country_type.show()\n",
    "num_rows = total_guests_by_country_type.count()\n",
    "print(f\"cantidad de fila: {num_rows}\")"
   ]
  },
  {
   "cell_type": "code",
   "execution_count": 25,
   "id": "2dbf560f-a42d-49c5-acab-9b98b27cd3a4",
   "metadata": {},
   "outputs": [],
   "source": [
    "# Llamar a la función para guardar el DataFrame en un archivo CSV\n",
    "guardar_dataframe_csv(total_guests_by_country_type, PATH_DATA_DEST, 'Tabla3', modo='overwrite')"
   ]
  },
  {
   "cell_type": "code",
   "execution_count": null,
   "id": "c5426a51-9ca1-4459-aed0-33f1b1780aaa",
   "metadata": {},
   "outputs": [],
   "source": []
  },
  {
   "cell_type": "code",
   "execution_count": null,
   "id": "586df140-3c6d-44f4-a9d4-f25566b83566",
   "metadata": {},
   "outputs": [],
   "source": []
  },
  {
   "cell_type": "code",
   "execution_count": null,
   "id": "efcbe317-ecbf-489a-9dfb-8c8adf053b39",
   "metadata": {},
   "outputs": [],
   "source": []
  },
  {
   "cell_type": "code",
   "execution_count": null,
   "id": "76845dcc-1d20-4c17-aed7-e846ad6606d1",
   "metadata": {},
   "outputs": [],
   "source": []
  },
  {
   "cell_type": "code",
   "execution_count": null,
   "id": "ddaa7edb-0560-4e24-a91e-97ede44ecbe8",
   "metadata": {},
   "outputs": [],
   "source": []
  }
 ],
 "metadata": {
  "kernelspec": {
   "display_name": "pyspark-env",
   "language": "python",
   "name": "pyspark-env"
  },
  "language_info": {
   "codemirror_mode": {
    "name": "ipython",
    "version": 3
   },
   "file_extension": ".py",
   "mimetype": "text/x-python",
   "name": "python",
   "nbconvert_exporter": "python",
   "pygments_lexer": "ipython3",
   "version": "3.10.13"
  }
 },
 "nbformat": 4,
 "nbformat_minor": 5
}
